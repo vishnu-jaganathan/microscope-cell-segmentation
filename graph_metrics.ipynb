{
  "cells": [
    {
      "cell_type": "code",
      "execution_count": 1,
      "metadata": {
        "colab": {
          "base_uri": "https://localhost:8080/"
        },
        "id": "DeLJo4QuCiom",
        "outputId": "f0341955-ddf5-4789-ca88-9b10f825494f"
      },
      "outputs": [
        {
          "output_type": "stream",
          "name": "stdout",
          "text": [
            "Mounted at /content/drive/\n",
            "/content/drive/MyDrive/cs7643_fp\n",
            "\u001b[0m\u001b[01;34mcocoScripts\u001b[0m/                     livecell_config.yaml  \u001b[01;34msegmentation_results\u001b[0m/\n",
            "\u001b[01;34mdata\u001b[0m/                            make_dataset.py       \u001b[01;34mtransformer\u001b[0m/\n",
            "\u001b[01;34mdetectron2-ResNeSt\u001b[0m/              \u001b[01;34mmaskrcnn\u001b[0m/             \u001b[01;34mwandb\u001b[0m/\n",
            "instructions.md                  \u001b[01;34mnn_results\u001b[0m/\n",
            "LIVECell_anchor_based_model.pth  README.md\n"
          ]
        }
      ],
      "source": [
        "### FOR GOOGLE COLAB\n",
        "from google.colab import drive\n",
        "drive.mount('/content/drive/')\n",
        "# %ls\n",
        "\n",
        "# %ls\n",
        "%cd drive/MyDrive/cs7643_fp\n",
        "%ls"
      ]
    },
    {
      "cell_type": "code",
      "execution_count": 3,
      "metadata": {
        "colab": {
          "base_uri": "https://localhost:8080/"
        },
        "id": "foTS91g_Cudd",
        "outputId": "0fbe4a97-b927-4e4e-ef67-c9858a6b1efa"
      },
      "outputs": [
        {
          "output_type": "stream",
          "name": "stdout",
          "text": [
            "Looking in indexes: https://pypi.org/simple, https://us-python.pkg.dev/colab-wheels/public/simple/\n",
            "Collecting git+https://github.com/facebookresearch/segment-anything.git\n",
            "  Cloning https://github.com/facebookresearch/segment-anything.git to /tmp/pip-req-build-u_y75gsb\n",
            "  Running command git clone --filter=blob:none --quiet https://github.com/facebookresearch/segment-anything.git /tmp/pip-req-build-u_y75gsb\n",
            "  Resolved https://github.com/facebookresearch/segment-anything.git to commit 567662b0fd33ca4b022d94d3b8de896628cd32dd\n",
            "  Preparing metadata (setup.py) ... \u001b[?25l\u001b[?25hdone\n",
            "Building wheels for collected packages: segment-anything\n",
            "  Building wheel for segment-anything (setup.py) ... \u001b[?25l\u001b[?25hdone\n",
            "  Created wheel for segment-anything: filename=segment_anything-1.0-py3-none-any.whl size=36610 sha256=9908f6c30bae9ed694997b1016353497d00797191a1a25268e62e031e2aa9ba4\n",
            "  Stored in directory: /tmp/pip-ephem-wheel-cache-gn5vqwup/wheels/10/cf/59/9ccb2f0a1bcc81d4fbd0e501680b5d088d690c6cfbc02dc99d\n",
            "Successfully built segment-anything\n",
            "Installing collected packages: segment-anything\n",
            "Successfully installed segment-anything-1.0\n",
            "Looking in indexes: https://pypi.org/simple, https://us-python.pkg.dev/colab-wheels/public/simple/\n",
            "Obtaining file:///content/drive/MyDrive/cs7643_fp/detectron2-ResNeSt\n",
            "  Preparing metadata (setup.py) ... \u001b[?25l\u001b[?25hdone\n",
            "Requirement already satisfied: termcolor>=1.1 in /usr/local/lib/python3.10/dist-packages (from detectron2==0.1.1) (2.3.0)\n",
            "Requirement already satisfied: Pillow in /usr/local/lib/python3.10/dist-packages (from detectron2==0.1.1) (8.4.0)\n",
            "Collecting yacs>=0.1.6\n",
            "  Downloading yacs-0.1.8-py3-none-any.whl (14 kB)\n",
            "Requirement already satisfied: tabulate in /usr/local/lib/python3.10/dist-packages (from detectron2==0.1.1) (0.8.10)\n",
            "Requirement already satisfied: cloudpickle in /usr/local/lib/python3.10/dist-packages (from detectron2==0.1.1) (2.2.1)\n",
            "Requirement already satisfied: matplotlib in /usr/local/lib/python3.10/dist-packages (from detectron2==0.1.1) (3.7.1)\n",
            "Requirement already satisfied: tqdm>4.29.0 in /usr/local/lib/python3.10/dist-packages (from detectron2==0.1.1) (4.65.0)\n",
            "Requirement already satisfied: tensorboard in /usr/local/lib/python3.10/dist-packages (from detectron2==0.1.1) (2.12.2)\n",
            "Collecting fvcore==0.1.dev200407\n",
            "  Downloading fvcore-0.1.dev200407.tar.gz (30 kB)\n",
            "  Preparing metadata (setup.py) ... \u001b[?25l\u001b[?25hdone\n",
            "Requirement already satisfied: future in /usr/local/lib/python3.10/dist-packages (from detectron2==0.1.1) (0.18.3)\n",
            "Requirement already satisfied: pydot in /usr/local/lib/python3.10/dist-packages (from detectron2==0.1.1) (1.4.2)\n",
            "Requirement already satisfied: numpy in /usr/local/lib/python3.10/dist-packages (from fvcore==0.1.dev200407->detectron2==0.1.1) (1.22.4)\n",
            "Requirement already satisfied: pyyaml>=5.1 in /usr/local/lib/python3.10/dist-packages (from fvcore==0.1.dev200407->detectron2==0.1.1) (6.0)\n",
            "Collecting portalocker\n",
            "  Downloading portalocker-2.7.0-py2.py3-none-any.whl (15 kB)\n",
            "Requirement already satisfied: cycler>=0.10 in /usr/local/lib/python3.10/dist-packages (from matplotlib->detectron2==0.1.1) (0.11.0)\n",
            "Requirement already satisfied: packaging>=20.0 in /usr/local/lib/python3.10/dist-packages (from matplotlib->detectron2==0.1.1) (23.1)\n",
            "Requirement already satisfied: kiwisolver>=1.0.1 in /usr/local/lib/python3.10/dist-packages (from matplotlib->detectron2==0.1.1) (1.4.4)\n",
            "Requirement already satisfied: python-dateutil>=2.7 in /usr/local/lib/python3.10/dist-packages (from matplotlib->detectron2==0.1.1) (2.8.2)\n",
            "Requirement already satisfied: pyparsing>=2.3.1 in /usr/local/lib/python3.10/dist-packages (from matplotlib->detectron2==0.1.1) (3.0.9)\n",
            "Requirement already satisfied: fonttools>=4.22.0 in /usr/local/lib/python3.10/dist-packages (from matplotlib->detectron2==0.1.1) (4.39.3)\n",
            "Requirement already satisfied: contourpy>=1.0.1 in /usr/local/lib/python3.10/dist-packages (from matplotlib->detectron2==0.1.1) (1.0.7)\n",
            "Requirement already satisfied: tensorboard-plugin-wit>=1.6.0 in /usr/local/lib/python3.10/dist-packages (from tensorboard->detectron2==0.1.1) (1.8.1)\n",
            "Requirement already satisfied: protobuf>=3.19.6 in /usr/local/lib/python3.10/dist-packages (from tensorboard->detectron2==0.1.1) (3.20.3)\n",
            "Requirement already satisfied: grpcio>=1.48.2 in /usr/local/lib/python3.10/dist-packages (from tensorboard->detectron2==0.1.1) (1.54.0)\n",
            "Requirement already satisfied: google-auth-oauthlib<1.1,>=0.5 in /usr/local/lib/python3.10/dist-packages (from tensorboard->detectron2==0.1.1) (1.0.0)\n",
            "Requirement already satisfied: wheel>=0.26 in /usr/local/lib/python3.10/dist-packages (from tensorboard->detectron2==0.1.1) (0.40.0)\n",
            "Requirement already satisfied: absl-py>=0.4 in /usr/local/lib/python3.10/dist-packages (from tensorboard->detectron2==0.1.1) (1.4.0)\n",
            "Requirement already satisfied: setuptools>=41.0.0 in /usr/local/lib/python3.10/dist-packages (from tensorboard->detectron2==0.1.1) (67.7.2)\n",
            "Requirement already satisfied: tensorboard-data-server<0.8.0,>=0.7.0 in /usr/local/lib/python3.10/dist-packages (from tensorboard->detectron2==0.1.1) (0.7.0)\n",
            "Requirement already satisfied: requests<3,>=2.21.0 in /usr/local/lib/python3.10/dist-packages (from tensorboard->detectron2==0.1.1) (2.27.1)\n",
            "Requirement already satisfied: werkzeug>=1.0.1 in /usr/local/lib/python3.10/dist-packages (from tensorboard->detectron2==0.1.1) (2.3.0)\n",
            "Requirement already satisfied: google-auth<3,>=1.6.3 in /usr/local/lib/python3.10/dist-packages (from tensorboard->detectron2==0.1.1) (2.17.3)\n",
            "Requirement already satisfied: markdown>=2.6.8 in /usr/local/lib/python3.10/dist-packages (from tensorboard->detectron2==0.1.1) (3.4.3)\n",
            "Requirement already satisfied: pyasn1-modules>=0.2.1 in /usr/local/lib/python3.10/dist-packages (from google-auth<3,>=1.6.3->tensorboard->detectron2==0.1.1) (0.3.0)\n",
            "Requirement already satisfied: cachetools<6.0,>=2.0.0 in /usr/local/lib/python3.10/dist-packages (from google-auth<3,>=1.6.3->tensorboard->detectron2==0.1.1) (5.3.0)\n",
            "Requirement already satisfied: rsa<5,>=3.1.4 in /usr/local/lib/python3.10/dist-packages (from google-auth<3,>=1.6.3->tensorboard->detectron2==0.1.1) (4.9)\n",
            "Requirement already satisfied: six>=1.9.0 in /usr/local/lib/python3.10/dist-packages (from google-auth<3,>=1.6.3->tensorboard->detectron2==0.1.1) (1.16.0)\n",
            "Requirement already satisfied: requests-oauthlib>=0.7.0 in /usr/local/lib/python3.10/dist-packages (from google-auth-oauthlib<1.1,>=0.5->tensorboard->detectron2==0.1.1) (1.3.1)\n",
            "Requirement already satisfied: idna<4,>=2.5 in /usr/local/lib/python3.10/dist-packages (from requests<3,>=2.21.0->tensorboard->detectron2==0.1.1) (3.4)\n",
            "Requirement already satisfied: charset-normalizer~=2.0.0 in /usr/local/lib/python3.10/dist-packages (from requests<3,>=2.21.0->tensorboard->detectron2==0.1.1) (2.0.12)\n",
            "Requirement already satisfied: certifi>=2017.4.17 in /usr/local/lib/python3.10/dist-packages (from requests<3,>=2.21.0->tensorboard->detectron2==0.1.1) (2022.12.7)\n",
            "Requirement already satisfied: urllib3<1.27,>=1.21.1 in /usr/local/lib/python3.10/dist-packages (from requests<3,>=2.21.0->tensorboard->detectron2==0.1.1) (1.26.15)\n",
            "Requirement already satisfied: MarkupSafe>=2.1.1 in /usr/local/lib/python3.10/dist-packages (from werkzeug>=1.0.1->tensorboard->detectron2==0.1.1) (2.1.2)\n",
            "Requirement already satisfied: pyasn1<0.6.0,>=0.4.6 in /usr/local/lib/python3.10/dist-packages (from pyasn1-modules>=0.2.1->google-auth<3,>=1.6.3->tensorboard->detectron2==0.1.1) (0.5.0)\n",
            "Requirement already satisfied: oauthlib>=3.0.0 in /usr/local/lib/python3.10/dist-packages (from requests-oauthlib>=0.7.0->google-auth-oauthlib<1.1,>=0.5->tensorboard->detectron2==0.1.1) (3.2.2)\n",
            "Building wheels for collected packages: fvcore\n",
            "  Building wheel for fvcore (setup.py) ... \u001b[?25l\u001b[?25hdone\n",
            "  Created wheel for fvcore: filename=fvcore-0.1.dev200407-py3-none-any.whl size=38761 sha256=2a8be806d0132bc16e88f427aecb92bbc7d7da3f49c7d4f0c2f51c6d9319dcc5\n",
            "  Stored in directory: /root/.cache/pip/wheels/e3/b3/b5/15b702800c0a8cd66c7a3a4b67f8267acaf43b068b2da1e662\n",
            "Successfully built fvcore\n",
            "Installing collected packages: yacs, portalocker, fvcore, detectron2\n",
            "  Running setup.py develop for detectron2\n",
            "Successfully installed detectron2-0.1.1 fvcore-0.1.dev200407 portalocker-2.7.0 yacs-0.1.8\n"
          ]
        }
      ],
      "source": [
        "#### NECESSARY PACKAGES\n",
        "!pip install git+https://github.com/facebookresearch/segment-anything.git\n",
        "!python -m pip install -e detectron2-ResNeSt"
      ]
    },
    {
      "cell_type": "code",
      "execution_count": 4,
      "metadata": {
        "id": "6lkEyTe3E1uj"
      },
      "outputs": [],
      "source": [
        "from pycocotools import mask as maskUtils\n",
        "from pycocotools.coco import COCO\n",
        "from pycocotools.cocoeval import COCOeval\n",
        "\n",
        "import numpy as np"
      ]
    },
    {
      "cell_type": "code",
      "source": [
        "import json\n",
        "\n",
        "with open('data/testImgs.json') as f:\n",
        "    data = json.load(f)"
      ],
      "metadata": {
        "id": "1b_x--FcodP0"
      },
      "execution_count": 6,
      "outputs": []
    },
    {
      "cell_type": "code",
      "source": [
        "file_id = {}\n",
        "for idx, field in enumerate(data[\"images\"]):\n",
        "  file_name = field['original_filename'] \n",
        "  parts = file_name.split(\"_\")\n",
        "  if parts[0] not in file_id:\n",
        "    file_id[parts[0]] = []\n",
        "  file_id[parts[0]].append(field['id'])\n",
        "  # if (idx == 3): break\n",
        "\n",
        "print(file_id)"
      ],
      "metadata": {
        "colab": {
          "base_uri": "https://localhost:8080/"
        },
        "id": "wc9VKI8CoyZg",
        "outputId": "3cd8c861-0473-4b44-d590-0f66a0143fdc"
      },
      "execution_count": 14,
      "outputs": [
        {
          "output_type": "stream",
          "name": "stdout",
          "text": [
            "{'BT474': [101438, 101798, 101943, 102143, 102490, 102610, 102901, 103164, 103336, 103564, 103726, 103849, 103985, 104166, 104380, 104590, 104775, 105061, 105281, 105426, 105674, 106124, 106276, 106460, 106594, 106830, 106979, 107161, 107408, 107665, 107881, 108005, 108254, 108410, 108549, 108718, 108910, 109140, 109335, 109563, 109766, 109972, 110145, 110337, 110524, 110723, 110920, 111014, 111162, 111306, 111524, 111797, 111919, 112047, 112250, 112547, 112729, 112938, 113207, 113379, 113659, 113812, 114070, 114201, 114321, 114739, 114879, 114994, 115222, 115351, 115537, 115683, 115849, 116020, 116171, 116474, 116668, 117083, 117268, 117419, 117581, 117718, 117905, 118116, 118337, 118466, 118684, 118860, 118961, 119171, 119382, 119560, 119729, 120037, 120319, 120674, 120898, 121082, 121246, 121445, 121611, 121797, 122057, 122180, 122346, 122575, 122804, 123012, 123195, 123386, 123520, 123745, 123910, 124098, 124246, 124389, 124552, 124675, 124860, 125288, 125524, 125776, 125893, 126048, 126315, 126468, 126708, 126961, 127243, 127474, 127589, 127755, 127961, 128136, 128357, 128676, 128848, 129020, 129231, 129399, 129633, 129777, 130021, 130223, 130328, 130538, 130815, 130981, 131116, 131363, 131582, 131740, 131886, 132123, 132281, 132683, 132816, 133016, 133303, 133487, 133713, 133867, 134089, 134292, 134602, 134814, 135059, 135366], 'A172': [234949, 235268, 235349, 235411, 235483, 235933, 236324, 236669, 236764, 237148, 237486, 237833, 237950, 238079, 238185, 238270, 238650, 239001, 239152, 239452, 239578, 239837, 240158, 240232, 240362, 240468, 240724, 241162, 241489, 241612, 242134, 242527, 242794, 243215, 243303, 243696, 243832, 244264, 244429, 244558, 244659, 244844, 244963, 245063, 245150, 245241, 245333, 245573, 245636, 245908, 246042, 246194, 246506, 246672, 247058, 247128, 247343, 247415, 247561, 247645, 247946, 248029, 248092, 248158, 248321, 248755, 249162, 249265, 249664, 249892, 250018, 250360, 250478, 250573, 250773, 251131, 251453, 251601, 251879, 251984, 252356, 252742, 252836, 253059, 253207, 253394, 253652, 253832, 254054, 254422, 254590, 254674, 255101, 255237, 255326, 255461, 255626, 255989, 256071, 256237, 256431, 256568, 256653, 256900, 256983, 257198, 257627, 257851, 258188, 258294, 258393, 258710, 258811, 259021, 259218, 259294, 259528, 259617, 260067, 260493, 260681, 261008, 261354, 261689, 262145, 262278, 262377, 262448, 262560, 262845, 262994, 263411, 263552, 263620, 263973, 264313, 264565, 264911, 265009, 265279, 265337, 265520, 265717, 266025, 266411, 266475, 266561, 266756, 267058, 267402, 267726, 268096], 'MCF7': [524895, 526173, 526733, 527045, 528481, 528630, 529776, 529990, 530087, 530500, 530892, 531041, 531390, 532422, 533814, 534163, 535039, 535389, 536028, 537164, 537368, 537858, 537946, 538410, 539040, 539716, 539856, 540409, 540843, 541189, 541970, 542214, 543492, 543620, 543797, 543920, 544118, 545120, 545403, 546741, 546976, 547071, 547860, 548804, 549797, 550115, 550532, 550642, 551521, 552375, 553662, 553841, 554401, 555549, 555737, 556709, 556916, 557846, 557934, 558079, 558190, 559487, 559767, 559915, 560494, 560952, 561773, 561966, 562895, 563106, 563422, 564378, 564621, 565189, 565554, 565679, 566570, 567832, 567950, 568238, 568479, 568651, 568807, 569435, 569646, 569787, 569886, 571196, 571356, 571895, 572858, 573115, 573650, 573791, 574783, 575304, 575513, 575776, 576864, 577525, 578289, 579795, 580166, 580473, 581895, 582934, 584213, 584460, 584728, 585232, 586225, 586736, 587137, 587605, 587709, 588510, 588920, 589047, 589288, 589528, 589847, 590217, 590357, 590474, 590692, 590878, 591596, 592367, 593293, 594096, 595003, 595211, 595423, 595841, 596008, 596177, 597054, 597759, 597871, 598824, 599051, 599751, 600605, 600980, 601952, 602694, 602976, 603528, 604451, 604604, 605389, 605528, 606171, 606440, 606659, 606851, 607972, 608418, 608555, 609742, 610000, 610122, 610560, 611800, 612072, 613286, 613460, 613599, 613698, 614599, 615593, 615754, 616450, 616685, 617877, 618300, 619052, 619138, 620464, 620905, 621512, 621709, 622064, 622750], 'Huh7': [918641, 921415, 921474, 921623, 926145, 933656, 940824, 942839, 973163, 980864, 983072, 983296, 989701, 991794, 993627, 1001871, 1037496, 1037550, 1037607, 1037634, 1037692, 1037771, 1037819, 1037874, 1037941, 1038022, 1038081, 1038142, 1038176, 1038294, 1038340, 1038401, 1038460, 1038524, 1038567, 1038624, 1038726, 1038785, 1038835, 1038873, 1038933, 1038987, 1039041, 1039100, 1039156, 1039221, 1039291, 1039384, 1039440, 1039499, 1039559, 1039635, 1039679, 1039745, 1039792, 1039851, 1039909, 1039964, 1040019, 1040062, 1040108, 1040165, 1040286, 1040350, 1040407, 1040463, 1040527, 1040571, 1040681, 1040718, 1040804, 1040857, 1040916, 1040994, 1041044, 1041098, 1041155, 1041209, 1041264, 1041320, 1041406, 1041474, 1041534, 1041586, 1041631, 1041687, 1041735, 1041802, 1041846, 1041898, 1041947, 1042006, 1042060, 1042122, 1042170, 1042268, 1042318, 1042355, 1042412, 1042472, 1042556, 1042606, 1042705, 1042745, 1042788, 1042846, 1042901, 1042972, 1043047, 1043110, 1043160, 1043211, 1043290, 1043368, 1043430, 1043484, 1043532, 1043610, 1043677, 1043740, 1043851, 1043917, 1043961, 1044008, 1044060, 1044116, 1044154, 1044211, 1044261, 1044319, 1044378, 1044465, 1044547, 1044612, 1044690, 1044747, 1044842, 1044900, 1045016, 1045075, 1045154, 1045214, 1045282, 1045329, 1045380, 1045446, 1045485, 1045532, 1045588, 1045645, 1045701, 1045756, 1045838, 1045885, 1045933, 1045990, 1046054, 1046096, 1046138, 1046184, 1046298, 1046351, 1046412, 1046475, 1046517, 1046590, 1046633, 1046697, 1046751, 1046812, 1046883, 1046940, 1046995, 1047050, 1047097, 1047165, 1047216, 1047279, 1047334, 1047386, 1047466, 1047520, 1047573, 1047617, 1047685, 1047741, 1047798, 1047856, 1047906, 1047963, 1048003, 1048062, 1048135, 1048250, 1048302, 1048360, 1048426, 1048587, 1048637, 1048685, 1048738, 1048800, 1048842, 1048884, 1048965, 1049037, 1049097, 1049153, 1049283, 1049331, 1049389, 1049447, 1049529, 1049596, 1049664, 1049714], 'BV2': [918701, 918800, 919323, 919685, 920562, 920670, 921519, 921691, 923156, 924270, 925026, 925335, 926204, 926812, 928520, 929175, 929582, 929731, 929808, 929947, 931775, 931883, 932193, 932672, 932926, 933323, 933597, 933777, 935042, 936197, 936304, 936454, 937584, 937797, 938907, 939712, 939876, 940753, 940903, 942716, 942897, 943072, 943262, 945018, 946612, 946694, 947088, 949003, 950023, 951795, 952113, 952264, 953903, 954524, 954616, 955077, 955169, 955307, 955377, 955486, 955558, 955613, 957426, 957762, 959088, 959361, 960800, 960925, 961311, 961465, 962723, 962862, 963089, 964107, 965162, 965487, 965763, 966325, 967617, 967972, 969510, 969726, 970759, 970852, 970972, 971753, 972893, 973227, 973729, 974450, 976048, 976052, 977541, 978608, 980213, 980917, 982048, 982383, 982950, 983110, 983224, 983413, 984754, 985231, 985413, 985628, 985895, 986087, 986329, 987840, 987941, 989394, 989817, 990817, 991004, 991139, 991306, 991846, 993508, 993680, 994171, 994307, 994889, 995937, 996498, 996625, 996868, 998004, 999171, 999474, 1000769, 1001031, 1001192, 1001381, 1001929, 1002755, 1002859, 1004653, 1004808, 1005598, 1005730, 1005943, 1006113, 1007027, 1007442, 1007447, 1007545, 1008696, 1008843, 1010475, 1010533, 1011969], 'SkBr3': [1252749, 1252962, 1253762, 1254287, 1254619, 1255027, 1255606, 1256195, 1256697, 1257106, 1257799, 1258178, 1258466, 1258880, 1259114, 1259721, 1259978, 1260416, 1260699, 1260927, 1261233, 1261928, 1262553, 1263106, 1263371, 1263707, 1264602, 1264805, 1265178, 1265380, 1266307, 1266476, 1267469, 1267731, 1267976, 1268207, 1268483, 1268792, 1268977, 1269197, 1269750, 1270081, 1270559, 1270853, 1271607, 1272020, 1272465, 1272965, 1273536, 1274623, 1275073, 1275490, 1275753, 1276004, 1276276, 1277050, 1277267, 1277723, 1278471, 1278732, 1279004, 1279473, 1279755, 1280288, 1280604, 1281121, 1281460, 1282621, 1282820, 1283253, 1283493, 1283774, 1284159, 1284589, 1285275, 1285637, 1285950, 1286456, 1286818, 1287401, 1287883, 1288295, 1288750, 1289008, 1289242, 1289985, 1290430, 1290645, 1290932, 1291174, 1291836, 1292455, 1292824, 1293155, 1293381, 1293783, 1294134, 1294522, 1294902, 1295468, 1295830, 1296525, 1296998, 1297351, 1297770, 1298256, 1298592, 1299159, 1299395, 1299586, 1300192, 1301520, 1302313, 1302694, 1302903, 1303287, 1303539, 1304067, 1304295, 1304647, 1304882, 1305968, 1306255, 1306524, 1306978, 1307216, 1307591, 1307994, 1308203, 1308522, 1309040, 1309213, 1309499, 1310048, 1310296, 1310889, 1311272, 1311460, 1311678, 1311866, 1312276, 1312475, 1313303, 1313612, 1313845, 1314230, 1314426, 1314625, 1315331, 1315757, 1316175, 1316481, 1317708, 1317897, 1318166, 1318374, 1318604, 1319007, 1319198, 1319533, 1319782, 1320439, 1320674, 1321178, 1321421, 1321742, 1323117, 1323340, 1323824, 1324033, 1324346, 1324825, 1325333, 1325645, 1325901, 1326434], 'SKOV3': [1253296, 1253492, 1256038, 1261690, 1270397, 1271389, 1272299, 1273342, 1273771, 1274032, 1274245, 1274465, 1274826, 1275261, 1276578, 1276830, 1278267, 1285056, 1287160, 1289650, 1291633, 1292182, 1296305, 1298787, 1298971, 1299804, 1301377, 1302023, 1306741, 1309765, 1310723, 1313123, 1315158, 1317430, 1322903, 1326698, 1371209, 1371424, 1371767, 1372042, 1372294, 1372418, 1372552, 1372653, 1372761, 1372845, 1372904, 1373085, 1373256, 1373305, 1373558, 1373817, 1374026, 1374286, 1374590, 1374853, 1375091, 1375386, 1375560, 1375765, 1376035, 1376266, 1376380, 1376474, 1376610, 1376916, 1376998, 1377268, 1377344, 1377636, 1377860, 1378049, 1378270, 1378553, 1378622, 1378740, 1378815, 1378865, 1379094, 1379236, 1379488, 1379823, 1380076, 1380211, 1380358, 1380436, 1380516, 1380569, 1380626, 1380844, 1380925, 1381044, 1381092, 1381186, 1381282, 1381348, 1381534, 1381771, 1381844, 1381926, 1382027, 1382129, 1382312, 1382541, 1382602, 1382750, 1382867, 1382968, 1383052, 1383099, 1383259, 1383305, 1383387, 1383435, 1383716, 1383795, 1383876, 1384030, 1384122, 1384212, 1384291, 1384630, 1384845, 1384946, 1385030, 1385098, 1385155, 1385271, 1385380, 1385515, 1385652, 1385950, 1386119, 1386245, 1386312, 1386558, 1386722, 1386940, 1387027, 1387230, 1387350, 1387546, 1387742, 1387892, 1387970, 1388063, 1388316, 1388515, 1388671, 1388770, 1388843, 1389189, 1389376, 1389502, 1389670, 1389727, 1390018, 1390181, 1390376, 1390506, 1390572, 1390654, 1390846, 1391164, 1391218, 1391353, 1391661, 1391753, 1391860, 1391914, 1391971, 1392156, 1392270, 1392510, 1392575, 1392837, 1392922, 1393068, 1393146, 1393467, 1393629, 1393793, 1393904, 1394058, 1394179, 1394268, 1394550, 1394619, 1394823, 1395033, 1395174, 1395253, 1395334, 1395417, 1395619, 1395755, 1395892, 1396018, 1396194, 1396361, 1396584, 1396798, 1396914, 1397188, 1397265, 1397352, 1397454, 1397520, 1397578, 1397732, 1397890, 1397943, 1398023, 1398083, 1398139, 1398476, 1398528, 1398722, 1399030, 1399197, 1399363, 1399470, 1399591, 1399680, 1399796, 1399996, 1400095, 1400178, 1400235, 1400378, 1400512, 1400578, 1400740, 1400953, 1401258, 1401398, 1401700, 1401906, 1402100, 1402311, 1402586, 1402713, 1402790, 1402853, 1403007, 1403079, 1403173, 1403234, 1403379, 1403473, 1403554, 1403619, 1403904, 1403974, 1404477, 1404566, 1404669, 1404943, 1405070, 1405227, 1405444, 1405534, 1405711, 1405853, 1406012, 1406233, 1406334, 1406435, 1406576, 1406650, 1406930, 1407150, 1407228, 1407292, 1407404, 1407530, 1407818, 1407900, 1407950, 1408023, 1408254, 1408400, 1408828, 1408931, 1409022, 1409183, 1409712, 1409865, 1409962, 1410118, 1410674, 1410790, 1410870, 1411056, 1411264, 1411495, 1411990, 1412065, 1412266, 1412390, 1412430, 1412697, 1412807, 1413052, 1413202, 1413370, 1413429, 1413565, 1413804, 1413859, 1413977, 1414242, 1414323, 1414456, 1414706, 1414896, 1415050, 1415160, 1415260, 1415526, 1415602, 1415863, 1416070, 1416296, 1416409, 1416702, 1416873, 1417204, 1417590, 1417833, 1417904, 1418018, 1418092, 1418232, 1418523, 1418636, 1418728, 1418803, 1418981, 1419118], 'SHSY5Y': [1617548, 1618136, 1618354, 1618959, 1619112, 1619270, 1619509, 1619640, 1620221, 1620547, 1620716, 1620887, 1621815, 1621899, 1622136, 1623498, 1624372, 1624717, 1624859, 1625192, 1625410, 1625946, 1626709, 1627440, 1628693, 1628865, 1629030, 1629223, 1629622, 1629982, 1630199, 1630354, 1630699, 1631138, 1631657, 1631935, 1632084, 1632387, 1632645, 1633014, 1633103, 1633534, 1633869, 1634097, 1634568, 1634681, 1635301, 1636076, 1636691, 1637497, 1638017, 1638230, 1638399, 1638474, 1639909, 1640127, 1640972, 1641483, 1642207, 1642572, 1643407, 1643663, 1644126, 1644952, 1645174, 1645773, 1646344, 1646512, 1646865, 1647189, 1647715, 1647898, 1648044, 1649019, 1649545, 1650270, 1650524, 1650650, 1651591, 1652218, 1652519, 1652647, 1653530, 1654164, 1655082, 1655506, 1655657, 1656103, 1656309, 1657108, 1657446, 1658429, 1658662, 1658863, 1659062, 1659816, 1660804, 1661218, 1662261, 1662992, 1663674, 1664572, 1664730, 1665010, 1665351, 1666016, 1666524, 1666692, 1667039, 1667297, 1667469, 1667923, 1668053, 1668234, 1669526, 1669761, 1669934, 1670051, 1670808, 1671428, 1671619, 1671765, 1671955, 1672319, 1672458, 1672542, 1672970, 1673331, 1674032, 1675178, 1675409, 1676285, 1677098, 1677641, 1677952, 1678269, 1679002, 1679990, 1680440, 1680586, 1680879, 1681482, 1682031, 1682304, 1682874, 1683431, 1683563, 1683777, 1684128, 1684552, 1685047, 1685159, 1685312, 1685622, 1685779, 1686299, 1686433, 1687533, 1687986, 1688089, 1688386, 1688576, 1688770, 1689492, 1689696, 1689770, 1690040, 1690715, 1691988, 1692573, 1692913, 1693298, 1693446, 1694233, 1694502, 1694938]}\n"
          ]
        }
      ]
    },
    {
      "cell_type": "code",
      "execution_count": 15,
      "metadata": {
        "colab": {
          "base_uri": "https://localhost:8080/"
        },
        "id": "oG-9iMZ1EY1m",
        "outputId": "b7fb69d6-9f6a-4d54-d7bd-196c15c5e8f7"
      },
      "outputs": [
        {
          "output_type": "stream",
          "name": "stdout",
          "text": [
            "loading annotations into memory...\n",
            "Done (t=11.42s)\n",
            "creating index...\n",
            "index created!\n",
            "loading annotations into memory...\n",
            "Done (t=4.19s)\n",
            "creating index...\n",
            "index created!\n"
          ]
        }
      ],
      "source": [
        "coco_gt = COCO('data/testImgs.json')\n",
        "coco_results = COCO('segmentation_results/SAM/SAM_autoMaskGenerator.json')"
      ]
    },
    {
      "cell_type": "code",
      "execution_count": 43,
      "metadata": {
        "colab": {
          "base_uri": "https://localhost:8080/"
        },
        "id": "S6wmGUo8Ey6_",
        "outputId": "fc38b9eb-8522-4eb4-ff7c-b91ca5da7e27"
      },
      "outputs": [
        {
          "output_type": "stream",
          "name": "stdout",
          "text": [
            "Running per image evaluation...\n",
            "Evaluate annotation type *segm*\n",
            "DONE (t=82.42s).\n",
            "Accumulating evaluation results...\n",
            "DONE (t=0.14s).\n",
            " Average Precision  (AP) @[ IoU=0.50:0.95 | area=   all | maxDets=100 ] = 0.043\n",
            " Average Precision  (AP) @[ IoU=0.50      | area=   all | maxDets=100 ] = 0.082\n",
            " Average Precision  (AP) @[ IoU=0.75      | area=   all | maxDets=100 ] = 0.048\n",
            " Average Precision  (AP) @[ IoU=0.50:0.95 | area= small | maxDets=100 ] = 0.052\n",
            " Average Precision  (AP) @[ IoU=0.50:0.95 | area=medium | maxDets=100 ] = 0.015\n",
            " Average Precision  (AP) @[ IoU=0.50:0.95 | area= large | maxDets=100 ] = -1.000\n",
            " Average Recall     (AR) @[ IoU=0.50:0.95 | area=   all | maxDets=  1 ] = 0.001\n",
            " Average Recall     (AR) @[ IoU=0.50:0.95 | area=   all | maxDets= 10 ] = 0.012\n",
            " Average Recall     (AR) @[ IoU=0.50:0.95 | area=   all | maxDets=100 ] = 0.103\n",
            " Average Recall     (AR) @[ IoU=0.50:0.95 | area= small | maxDets=100 ] = 0.100\n",
            " Average Recall     (AR) @[ IoU=0.50:0.95 | area=medium | maxDets=100 ] = 0.155\n",
            " Average Recall     (AR) @[ IoU=0.50:0.95 | area= large | maxDets=100 ] = -1.000\n",
            "Cell Type Being Evaluated On:  BT474\n",
            "Running per image evaluation...\n",
            "Evaluate annotation type *segm*\n",
            "DONE (t=76.50s).\n",
            "Accumulating evaluation results...\n",
            "DONE (t=0.13s).\n",
            "Running per image evaluation...\n",
            "Evaluate annotation type *segm*\n",
            "DONE (t=90.40s).\n",
            "Accumulating evaluation results...\n",
            "DONE (t=0.15s).\n",
            " Average Precision  (AP) @[ IoU=0.50:0.95 | area=   all | maxDets=100 ] = 0.030\n",
            " Average Precision  (AP) @[ IoU=0.50      | area=   all | maxDets=100 ] = 0.062\n",
            " Average Precision  (AP) @[ IoU=0.75      | area=   all | maxDets=100 ] = 0.029\n",
            " Average Precision  (AP) @[ IoU=0.50:0.95 | area= small | maxDets=100 ] = 0.029\n",
            " Average Precision  (AP) @[ IoU=0.50:0.95 | area=medium | maxDets=100 ] = 0.035\n",
            " Average Precision  (AP) @[ IoU=0.50:0.95 | area= large | maxDets=100 ] = 0.000\n",
            " Average Recall     (AR) @[ IoU=0.50:0.95 | area=   all | maxDets=  1 ] = 0.000\n",
            " Average Recall     (AR) @[ IoU=0.50:0.95 | area=   all | maxDets= 10 ] = 0.010\n",
            " Average Recall     (AR) @[ IoU=0.50:0.95 | area=   all | maxDets=100 ] = 0.087\n",
            " Average Recall     (AR) @[ IoU=0.50:0.95 | area= small | maxDets=100 ] = 0.081\n",
            " Average Recall     (AR) @[ IoU=0.50:0.95 | area=medium | maxDets=100 ] = 0.097\n",
            " Average Recall     (AR) @[ IoU=0.50:0.95 | area= large | maxDets=100 ] = 0.000\n",
            "Cell Type Being Evaluated On:  A172\n",
            "Running per image evaluation...\n",
            "Evaluate annotation type *segm*\n",
            "DONE (t=92.98s).\n",
            "Accumulating evaluation results...\n",
            "DONE (t=0.29s).\n",
            "Running per image evaluation...\n",
            "Evaluate annotation type *segm*\n",
            "DONE (t=150.23s).\n",
            "Accumulating evaluation results...\n",
            "DONE (t=0.14s).\n",
            " Average Precision  (AP) @[ IoU=0.50:0.95 | area=   all | maxDets=100 ] = 0.012\n",
            " Average Precision  (AP) @[ IoU=0.50      | area=   all | maxDets=100 ] = 0.020\n",
            " Average Precision  (AP) @[ IoU=0.75      | area=   all | maxDets=100 ] = 0.015\n",
            " Average Precision  (AP) @[ IoU=0.50:0.95 | area= small | maxDets=100 ] = 0.015\n",
            " Average Precision  (AP) @[ IoU=0.50:0.95 | area=medium | maxDets=100 ] = 0.003\n",
            " Average Precision  (AP) @[ IoU=0.50:0.95 | area= large | maxDets=100 ] = 0.000\n",
            " Average Recall     (AR) @[ IoU=0.50:0.95 | area=   all | maxDets=  1 ] = 0.001\n",
            " Average Recall     (AR) @[ IoU=0.50:0.95 | area=   all | maxDets= 10 ] = 0.004\n",
            " Average Recall     (AR) @[ IoU=0.50:0.95 | area=   all | maxDets=100 ] = 0.021\n",
            " Average Recall     (AR) @[ IoU=0.50:0.95 | area= small | maxDets=100 ] = 0.021\n",
            " Average Recall     (AR) @[ IoU=0.50:0.95 | area=medium | maxDets=100 ] = 0.151\n",
            " Average Recall     (AR) @[ IoU=0.50:0.95 | area= large | maxDets=100 ] = 0.200\n",
            "Cell Type Being Evaluated On:  MCF7\n",
            "Running per image evaluation...\n",
            "Evaluate annotation type *segm*\n",
            "DONE (t=151.91s).\n",
            "Accumulating evaluation results...\n",
            "DONE (t=0.15s).\n",
            "Running per image evaluation...\n",
            "Evaluate annotation type *segm*\n",
            "DONE (t=22.36s).\n",
            "Accumulating evaluation results...\n",
            "DONE (t=0.17s).\n",
            " Average Precision  (AP) @[ IoU=0.50:0.95 | area=   all | maxDets=100 ] = 0.083\n",
            " Average Precision  (AP) @[ IoU=0.50      | area=   all | maxDets=100 ] = 0.176\n",
            " Average Precision  (AP) @[ IoU=0.75      | area=   all | maxDets=100 ] = 0.079\n",
            " Average Precision  (AP) @[ IoU=0.50:0.95 | area= small | maxDets=100 ] = 0.088\n",
            " Average Precision  (AP) @[ IoU=0.50:0.95 | area=medium | maxDets=100 ] = 0.099\n",
            " Average Precision  (AP) @[ IoU=0.50:0.95 | area= large | maxDets=100 ] = 0.024\n",
            " Average Recall     (AR) @[ IoU=0.50:0.95 | area=   all | maxDets=  1 ] = 0.005\n",
            " Average Recall     (AR) @[ IoU=0.50:0.95 | area=   all | maxDets= 10 ] = 0.057\n",
            " Average Recall     (AR) @[ IoU=0.50:0.95 | area=   all | maxDets=100 ] = 0.201\n",
            " Average Recall     (AR) @[ IoU=0.50:0.95 | area= small | maxDets=100 ] = 0.228\n",
            " Average Recall     (AR) @[ IoU=0.50:0.95 | area=medium | maxDets=100 ] = 0.175\n",
            " Average Recall     (AR) @[ IoU=0.50:0.95 | area= large | maxDets=100 ] = 0.571\n",
            "Cell Type Being Evaluated On:  Huh7\n",
            "Running per image evaluation...\n",
            "Evaluate annotation type *segm*\n",
            "DONE (t=20.62s).\n",
            "Accumulating evaluation results...\n",
            "DONE (t=0.16s).\n",
            "Running per image evaluation...\n",
            "Evaluate annotation type *segm*\n",
            "DONE (t=303.54s).\n",
            "Accumulating evaluation results...\n",
            "DONE (t=0.18s).\n",
            " Average Precision  (AP) @[ IoU=0.50:0.95 | area=   all | maxDets=100 ] = 0.058\n",
            " Average Precision  (AP) @[ IoU=0.50      | area=   all | maxDets=100 ] = 0.104\n",
            " Average Precision  (AP) @[ IoU=0.75      | area=   all | maxDets=100 ] = 0.060\n",
            " Average Precision  (AP) @[ IoU=0.50:0.95 | area= small | maxDets=100 ] = 0.058\n",
            " Average Precision  (AP) @[ IoU=0.50:0.95 | area=medium | maxDets=100 ] = -1.000\n",
            " Average Precision  (AP) @[ IoU=0.50:0.95 | area= large | maxDets=100 ] = -1.000\n",
            " Average Recall     (AR) @[ IoU=0.50:0.95 | area=   all | maxDets=  1 ] = 0.001\n",
            " Average Recall     (AR) @[ IoU=0.50:0.95 | area=   all | maxDets= 10 ] = 0.009\n",
            " Average Recall     (AR) @[ IoU=0.50:0.95 | area=   all | maxDets=100 ] = 0.074\n",
            " Average Recall     (AR) @[ IoU=0.50:0.95 | area= small | maxDets=100 ] = 0.074\n",
            " Average Recall     (AR) @[ IoU=0.50:0.95 | area=medium | maxDets=100 ] = -1.000\n",
            " Average Recall     (AR) @[ IoU=0.50:0.95 | area= large | maxDets=100 ] = -1.000\n",
            "Cell Type Being Evaluated On:  BV2\n",
            "Running per image evaluation...\n",
            "Evaluate annotation type *segm*\n",
            "DONE (t=295.74s).\n",
            "Accumulating evaluation results...\n",
            "DONE (t=0.10s).\n",
            "Running per image evaluation...\n",
            "Evaluate annotation type *segm*\n",
            "DONE (t=214.83s).\n",
            "Accumulating evaluation results...\n",
            "DONE (t=0.31s).\n",
            " Average Precision  (AP) @[ IoU=0.50:0.95 | area=   all | maxDets=100 ] = 0.139\n",
            " Average Precision  (AP) @[ IoU=0.50      | area=   all | maxDets=100 ] = 0.230\n",
            " Average Precision  (AP) @[ IoU=0.75      | area=   all | maxDets=100 ] = 0.157\n",
            " Average Precision  (AP) @[ IoU=0.50:0.95 | area= small | maxDets=100 ] = 0.142\n",
            " Average Precision  (AP) @[ IoU=0.50:0.95 | area=medium | maxDets=100 ] = 0.047\n",
            " Average Precision  (AP) @[ IoU=0.50:0.95 | area= large | maxDets=100 ] = -1.000\n",
            " Average Recall     (AR) @[ IoU=0.50:0.95 | area=   all | maxDets=  1 ] = 0.002\n",
            " Average Recall     (AR) @[ IoU=0.50:0.95 | area=   all | maxDets= 10 ] = 0.016\n",
            " Average Recall     (AR) @[ IoU=0.50:0.95 | area=   all | maxDets=100 ] = 0.165\n",
            " Average Recall     (AR) @[ IoU=0.50:0.95 | area= small | maxDets=100 ] = 0.168\n",
            " Average Recall     (AR) @[ IoU=0.50:0.95 | area=medium | maxDets=100 ] = 0.067\n",
            " Average Recall     (AR) @[ IoU=0.50:0.95 | area= large | maxDets=100 ] = -1.000\n",
            "Cell Type Being Evaluated On:  SkBr3\n",
            "Running per image evaluation...\n",
            "Evaluate annotation type *segm*\n",
            "DONE (t=215.27s).\n",
            "Accumulating evaluation results...\n",
            "DONE (t=0.17s).\n",
            "Running per image evaluation...\n",
            "Evaluate annotation type *segm*\n",
            "DONE (t=158.03s).\n",
            "Accumulating evaluation results...\n",
            "DONE (t=0.41s).\n",
            " Average Precision  (AP) @[ IoU=0.50:0.95 | area=   all | maxDets=100 ] = 0.019\n",
            " Average Precision  (AP) @[ IoU=0.50      | area=   all | maxDets=100 ] = 0.039\n",
            " Average Precision  (AP) @[ IoU=0.75      | area=   all | maxDets=100 ] = 0.020\n",
            " Average Precision  (AP) @[ IoU=0.50:0.95 | area= small | maxDets=100 ] = 0.024\n",
            " Average Precision  (AP) @[ IoU=0.50:0.95 | area=medium | maxDets=100 ] = 0.028\n",
            " Average Precision  (AP) @[ IoU=0.50:0.95 | area= large | maxDets=100 ] = 0.001\n",
            " Average Recall     (AR) @[ IoU=0.50:0.95 | area=   all | maxDets=  1 ] = 0.001\n",
            " Average Recall     (AR) @[ IoU=0.50:0.95 | area=   all | maxDets= 10 ] = 0.011\n",
            " Average Recall     (AR) @[ IoU=0.50:0.95 | area=   all | maxDets=100 ] = 0.072\n",
            " Average Recall     (AR) @[ IoU=0.50:0.95 | area= small | maxDets=100 ] = 0.113\n",
            " Average Recall     (AR) @[ IoU=0.50:0.95 | area=medium | maxDets=100 ] = 0.049\n",
            " Average Recall     (AR) @[ IoU=0.50:0.95 | area= large | maxDets=100 ] = 0.032\n",
            "Cell Type Being Evaluated On:  SKOV3\n",
            "Running per image evaluation...\n",
            "Evaluate annotation type *segm*\n",
            "DONE (t=156.95s).\n",
            "Accumulating evaluation results...\n",
            "DONE (t=0.38s).\n",
            "Running per image evaluation...\n",
            "Evaluate annotation type *segm*\n",
            "DONE (t=200.29s).\n",
            "Accumulating evaluation results...\n",
            "DONE (t=0.24s).\n",
            " Average Precision  (AP) @[ IoU=0.50:0.95 | area=   all | maxDets=100 ] = 0.005\n",
            " Average Precision  (AP) @[ IoU=0.50      | area=   all | maxDets=100 ] = 0.008\n",
            " Average Precision  (AP) @[ IoU=0.75      | area=   all | maxDets=100 ] = 0.005\n",
            " Average Precision  (AP) @[ IoU=0.50:0.95 | area= small | maxDets=100 ] = 0.005\n",
            " Average Precision  (AP) @[ IoU=0.50:0.95 | area=medium | maxDets=100 ] = 0.000\n",
            " Average Precision  (AP) @[ IoU=0.50:0.95 | area= large | maxDets=100 ] = -1.000\n",
            " Average Recall     (AR) @[ IoU=0.50:0.95 | area=   all | maxDets=  1 ] = 0.001\n",
            " Average Recall     (AR) @[ IoU=0.50:0.95 | area=   all | maxDets= 10 ] = 0.004\n",
            " Average Recall     (AR) @[ IoU=0.50:0.95 | area=   all | maxDets=100 ] = 0.012\n",
            " Average Recall     (AR) @[ IoU=0.50:0.95 | area= small | maxDets=100 ] = 0.012\n",
            " Average Recall     (AR) @[ IoU=0.50:0.95 | area=medium | maxDets=100 ] = 0.022\n",
            " Average Recall     (AR) @[ IoU=0.50:0.95 | area= large | maxDets=100 ] = -1.000\n",
            "Cell Type Being Evaluated On:  SHSY5Y\n",
            "Running per image evaluation...\n",
            "Evaluate annotation type *segm*\n",
            "DONE (t=199.13s).\n",
            "Accumulating evaluation results...\n",
            "DONE (t=0.12s).\n",
            " Average Precision  (AP) @[ IoU=0.50:0.95 | area=   all | maxDets=100 ] = 0.005\n",
            " Average Precision  (AP) @[ IoU=0.50      | area=   all | maxDets=100 ] = 0.008\n",
            " Average Precision  (AP) @[ IoU=0.75      | area=   all | maxDets=100 ] = 0.005\n",
            " Average Precision  (AP) @[ IoU=0.50:0.95 | area= small | maxDets=100 ] = 0.005\n",
            " Average Precision  (AP) @[ IoU=0.50:0.95 | area=medium | maxDets=100 ] = 0.000\n",
            " Average Precision  (AP) @[ IoU=0.50:0.95 | area= large | maxDets=100 ] = -1.000\n",
            " Average Recall     (AR) @[ IoU=0.50:0.95 | area=   all | maxDets=  1 ] = 0.001\n",
            " Average Recall     (AR) @[ IoU=0.50:0.95 | area=   all | maxDets= 10 ] = 0.004\n",
            " Average Recall     (AR) @[ IoU=0.50:0.95 | area=   all | maxDets=100 ] = 0.012\n",
            " Average Recall     (AR) @[ IoU=0.50:0.95 | area= small | maxDets=100 ] = 0.012\n",
            " Average Recall     (AR) @[ IoU=0.50:0.95 | area=medium | maxDets=100 ] = 0.022\n",
            " Average Recall     (AR) @[ IoU=0.50:0.95 | area= large | maxDets=100 ] = -1.000\n"
          ]
        }
      ],
      "source": [
        "\n",
        "# Initialize COCO evaluation object for instance segmentation\n",
        "coco_eval = COCOeval(coco_gt, coco_results, 'segm')\n",
        "\n",
        "for cellType, ids in file_id.items():\n",
        "  # Calculate IoU for each image and each object instance and run evaluation metrics\n",
        "  coco_eval_2 = COCOeval(coco_gt, coco_results, 'segm')\n",
        "  coco_eval_2.params.imgIds = ids\n",
        "  coco_eval_2.evaluate()\n",
        "  coco_eval_2.accumulate()\n",
        "  coco_eval_2.summarize()\n",
        "\n",
        "  print(\"Cell Type Being Evaluated On: \", cellType)\n",
        "  coco_eval.params.imgIds = ids\n",
        "  coco_eval.evaluate()\n",
        "  coco_eval.accumulate()\n",
        "  # coco_eval.summarize()\n",
        "\n",
        "  # idx = coco_eval.params.catIds.index(1)  # index of the category you're interested in (here 1 = 'person')\n",
        "  # recalls = coco_eval.eval['recall'][idx, :, :, 0]  # recall values for the specified category and image ID\n",
        "  \n",
        "  # # Print the recall values for the current image ID\n",
        "  # # print(recalls)\n",
        "  # # for i, recall in enumerate(recalls):\n",
        "  # #     print('Recall@{} for image: {:.3f}'.format(i + 1, recall))\n",
        "\n",
        "  # preicisions = coco_eval.eval['precision'][idx, :, :, 0]  # recall values for the specified category and image ID\n",
        "  # print(preicisions)\n",
        "  # # Print the recall values for the current image ID\n",
        "  # for i, prec in enumerate(preicisions):\n",
        "  #     print('Recall@{} for image: {:.3f}'.format(i + 1, prec))\n",
        "\n",
        "coco_eval.summarize()"
      ]
    },
    {
      "cell_type": "code",
      "source": [
        "# for cellType, ids in file_id.items():\n",
        "  # catids = \n",
        "  # idx = coco_eval.params.catIds.index(1)\n",
        "  # print(coco_eval.params.catIds.index(1))\n",
        "# print((coco_eval.eval))\n",
        "print(coco_eval.eval['precision'].shape)\n",
        "print(coco_eval.eval['recall'].shape)\n",
        "total = 0\n",
        "for c, l in file_id.items():\n",
        "  total += len(l)\n",
        "  # print(coco_eval.eval['precision'][idx, :, :, 0])\n",
        "print(total)"
      ],
      "metadata": {
        "colab": {
          "base_uri": "https://localhost:8080/"
        },
        "id": "tdcbz8CtwWvE",
        "outputId": "1084fda0-c8bd-499a-d062-00c5d96a390d"
      },
      "execution_count": 35,
      "outputs": [
        {
          "output_type": "stream",
          "name": "stdout",
          "text": [
            "(10, 101, 1, 4, 3)\n",
            "(10, 1, 4, 3)\n",
            "1564\n"
          ]
        }
      ]
    },
    {
      "cell_type": "code",
      "execution_count": null,
      "metadata": {
        "colab": {
          "base_uri": "https://localhost:8080/"
        },
        "id": "50_PR9ElFAup",
        "outputId": "a2a34819-33ec-4ef1-a3dd-12b1d3d465a1"
      },
      "outputs": [
        {
          "name": "stdout",
          "output_type": "stream",
          "text": [
            "Average IoU: 0.24687587347138373\n"
          ]
        }
      ],
      "source": [
        "coco_eval.eval['precision']#Calculate average IoU\n",
        "mean_iou = 0\n",
        "#Loop over all images\n",
        "for v in coco_eval.ious.values():\n",
        "    #Grab IoU for each predicted object and calculate the mean\n",
        "    mean_iou += np.mean(np.max(v, axis=0))\n",
        "\n",
        "#mean over all images   \n",
        "mean_iou /= len(coco_eval.ious)\n",
        "\n",
        "print(\"Average IoU:\", mean_iou)"
      ]
    },
    {
      "cell_type": "code",
      "execution_count": null,
      "metadata": {
        "colab": {
          "base_uri": "https://localhost:8080/"
        },
        "id": "YbgjRf1DLRw9",
        "outputId": "a43d2ad1-fe6b-4efa-c2e9-af6e34d21102"
      },
      "outputs": [
        {
          "name": "stdout",
          "output_type": "stream",
          "text": [
            "AP: 0.038\n"
          ]
        }
      ],
      "source": [
        "print('AP: {:.3f}'.format(coco_eval.stats[0]))"
      ]
    },
    {
      "cell_type": "code",
      "execution_count": null,
      "metadata": {
        "colab": {
          "base_uri": "https://localhost:8080/"
        },
        "id": "OV8MYWjPLrLE",
        "outputId": "3c27ac63-d7d9-4dee-af07-0fae0d325bbd"
      },
      "outputs": [
        {
          "name": "stderr",
          "output_type": "stream",
          "text": [
            "IOPub data rate exceeded.\n",
            "The notebook server will temporarily stop sending output\n",
            "to the client in order to avoid crashing it.\n",
            "To change this limit, set the config variable\n",
            "`--NotebookApp.iopub_data_rate_limit`.\n",
            "\n",
            "Current values:\n",
            "NotebookApp.iopub_data_rate_limit=1000000.0 (bytes/sec)\n",
            "NotebookApp.rate_limit_window=3.0 (secs)\n",
            "\n"
          ]
        }
      ],
      "source": [
        "# print(coco_eval.evalImgs)"
      ]
    },
    {
      "cell_type": "code",
      "execution_count": 17,
      "metadata": {
        "id": "3Q3E3JTILxJw",
        "colab": {
          "base_uri": "https://localhost:8080/"
        },
        "outputId": "89ee05da-89c4-4a40-b6b4-58fbae6a79e0"
      },
      "outputs": [
        {
          "output_type": "stream",
          "name": "stdout",
          "text": [
            "[ 4.90188241e-03  8.35958581e-03  4.95049505e-03  5.09610769e-03\n",
            "  1.65180673e-04 -1.00000000e+00  5.02710954e-04  3.51766068e-03\n",
            "  1.22414065e-02  1.21963148e-02  2.24550898e-02 -1.00000000e+00]\n"
          ]
        }
      ],
      "source": [
        "print(coco_eval.stats)"
      ]
    },
    {
      "cell_type": "code",
      "source": [
        "# manual input\n",
        "results = {\"BT474\": {\"precision\": 0.043, \"recall\": 0.103}, \"A172\": {\"precision\": 0.030, \"recall\": 0.087}, \"MCF7\": {\"precision\": 0.012, \"recall\": 0.021}, \"Huh7\": {\"precision\": 0.083, \"recall\": 0.201}, \n",
        "           \"BV2\": {\"precision\": 0.058, \"recall\": 0.074}, \"SkBr3\": {\"precision\": 0.139, \"recall\": 0.165}, \"SKOV3\": {\"precision\": 0.019, \"recall\": 0.072}, \"SHSY5Y\": {\"precision\": 0.005, \"recall\": 0.012}}"
      ],
      "metadata": {
        "id": "mqEb7vB1v17S"
      },
      "execution_count": 68,
      "outputs": []
    },
    {
      "cell_type": "code",
      "source": [
        "x_labels = []\n",
        "precision_labels = []\n",
        "afnr_labels = []\n",
        "\n",
        "for cell, d in results.items():\n",
        "  print(d)\n",
        "  x_labels.append(cell)\n",
        "  precision_labels.append(d[\"precision\"]*100)\n",
        "  afnr_labels.append((1-d[\"recall\"])*100)\n",
        "\n",
        "x_labels = sorted(x_labels)\n",
        "precision_labels = [p for _, p in sorted(zip(x_labels, precision_labels))]\n",
        "afnr_labels = [p for _, p in sorted(zip(x_labels, afnr_labels))]"
      ],
      "metadata": {
        "colab": {
          "base_uri": "https://localhost:8080/"
        },
        "id": "lahqxIKO5e0-",
        "outputId": "0c5e7f8d-db97-408b-f58e-70a0a8d582ec"
      },
      "execution_count": 69,
      "outputs": [
        {
          "output_type": "stream",
          "name": "stdout",
          "text": [
            "{'precision': 0.043, 'recall': 0.103}\n",
            "{'precision': 0.03, 'recall': 0.087}\n",
            "{'precision': 0.012, 'recall': 0.021}\n",
            "{'precision': 0.083, 'recall': 0.201}\n",
            "{'precision': 0.058, 'recall': 0.074}\n",
            "{'precision': 0.139, 'recall': 0.165}\n",
            "{'precision': 0.019, 'recall': 0.072}\n",
            "{'precision': 0.005, 'recall': 0.012}\n"
          ]
        }
      ]
    },
    {
      "cell_type": "code",
      "source": [
        "import matplotlib.pyplot as plt\n",
        "\n",
        "fig = plt.figure()\n",
        "\n",
        "plt.bar(x_labels,precision_labels)\n",
        "plt.xlabel(\"cell_type\")\n",
        "plt.ylabel(\"AP (%)\")\n",
        "plt.title(\"AP IOU:0.5-0.95, 100 Det COCO\")\n",
        "plt.ylim(0, 80)\n",
        "plt.show()\n"
      ],
      "metadata": {
        "colab": {
          "base_uri": "https://localhost:8080/",
          "height": 472
        },
        "id": "wNbYpynXDjK6",
        "outputId": "d43f96de-f8a2-4611-e4e0-57dfa59b5b94"
      },
      "execution_count": 70,
      "outputs": [
        {
          "output_type": "display_data",
          "data": {
            "text/plain": [
              "<Figure size 640x480 with 1 Axes>"
            ],
            "image/png": "[encoded data removed]"
          },
          "metadata": {}
        }
      ]
    },
    {
      "cell_type": "code",
      "source": [
        "fig = plt.figure()\n",
        "\n",
        "plt.bar(x_labels,afnr_labels)\n",
        "plt.xlabel(\"cell_type\")\n",
        "plt.ylabel(\"AFNR (%)\")\n",
        "plt.title(\"AFNR IOU:0.5-0.95, 100 Det COCO\")\n",
        "plt.ylim(0, 100)\n",
        "plt.show()"
      ],
      "metadata": {
        "colab": {
          "base_uri": "https://localhost:8080/",
          "height": 472
        },
        "id": "ZOjwK0xpEY1M",
        "outputId": "07b7459f-78c0-4805-b7a2-3661f11b4224"
      },
      "execution_count": 71,
      "outputs": [
        {
          "output_type": "display_data",
          "data": {
            "text/plain": [
              "<Figure size 640x480 with 1 Axes>"
            ],
            "image/png": "[encoded data removed]"
          },
          "metadata": {}
        }
      ]
    },
    {
      "cell_type": "code",
      "source": [],
      "metadata": {
        "id": "XEI-VZpgEae3"
      },
      "execution_count": null,
      "outputs": []
    }
  ],
  "metadata": {
    "colab": {
      "provenance": []
    },
    "kernelspec": {
      "display_name": "Python 3.11.3 ('cs7643_fp')",
      "language": "python",
      "name": "python3"
    },
    "language_info": {
      "name": "python",
      "version": "3.11.3"
    },
    "vscode": {
      "interpreter": {
        "hash": "8faf1b625ba19da74838915457ca0e20f19b55792302a018fed59b3cd2ece48b"
      }
    }
  },
  "nbformat": 4,
  "nbformat_minor": 0
}